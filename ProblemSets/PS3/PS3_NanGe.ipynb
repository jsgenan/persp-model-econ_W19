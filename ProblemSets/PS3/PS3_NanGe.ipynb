{
 "cells": [
  {
   "cell_type": "markdown",
   "metadata": {},
   "source": [
    "### Recursive problem\n",
    "Bellman equation in infinite time horizon is\n",
    "$$V_{i}(W) = \\max_{W'} u(W-W')+\\beta V_{i+1}(W')$$\n",
    "\n",
    "1. Guess $V_i(W)$\n",
    "2. Plug $V_I$ into equation/operator to get new $V_{i+1}$\n",
    "3. Check $||V_{i+1}-V_i||$\n",
    "4. If $||V_{i+1}-V_i||\\leq \\epsilon$, done; If not, repeat 1 to 4"
   ]
  },
  {
   "cell_type": "markdown",
   "metadata": {},
   "source": [
    "#### Excercise 5.9"
   ]
  },
  {
   "cell_type": "code",
   "execution_count": 108,
   "metadata": {},
   "outputs": [],
   "source": [
    "import numpy as np\n",
    "#Set a vetor of discretized cake sizes\n",
    "W_lb = 1e-2\n",
    "W_ub = 1.0\n",
    "N = 100\n",
    "W_vec = np.linspace(W_lb, W_ub, N)"
   ]
  },
  {
   "cell_type": "markdown",
   "metadata": {},
   "source": [
    "#### Excecise 5.10"
   ]
  },
  {
   "cell_type": "code",
   "execution_count": 98,
   "metadata": {},
   "outputs": [],
   "source": [
    "#set other paramterers (discount factor)\n",
    "beta = 0.9\n",
    "#choose a utility function u(c)=log(c)\n",
    "def utility(c):\n",
    "    util = np.log(c)\n",
    "    return util"
   ]
  },
  {
   "cell_type": "markdown",
   "metadata": {},
   "source": [
    "The policy function $W' = \\psi_T(W) = 0$\n",
    "\n",
    "The value function $V_T(W) = ln(W)$"
   ]
  },
  {
   "cell_type": "code",
   "execution_count": 109,
   "metadata": {},
   "outputs": [
    {
     "name": "stdout",
     "output_type": "stream",
     "text": [
      "[-4.60517019 -3.91202301 -3.5065579  -3.21887582 -2.99573227 -2.81341072\n",
      " -2.65926004 -2.52572864 -2.40794561 -2.30258509 -2.20727491 -2.12026354\n",
      " -2.04022083 -1.96611286 -1.89711998 -1.83258146 -1.77195684 -1.71479843\n",
      " -1.66073121 -1.60943791 -1.56064775 -1.51412773 -1.46967597 -1.42711636\n",
      " -1.38629436 -1.34707365 -1.30933332 -1.27296568 -1.23787436 -1.2039728\n",
      " -1.17118298 -1.13943428 -1.10866262 -1.07880966 -1.04982212 -1.02165125\n",
      " -0.99425227 -0.96758403 -0.94160854 -0.91629073 -0.89159812 -0.86750057\n",
      " -0.84397007 -0.82098055 -0.7985077  -0.77652879 -0.75502258 -0.73396918\n",
      " -0.71334989 -0.69314718 -0.67334455 -0.65392647 -0.63487827 -0.61618614\n",
      " -0.597837   -0.5798185  -0.56211892 -0.54472718 -0.52763274 -0.51082562\n",
      " -0.49429632 -0.4780358  -0.46203546 -0.4462871  -0.43078292 -0.41551544\n",
      " -0.40047757 -0.38566248 -0.37106368 -0.35667494 -0.34249031 -0.32850407\n",
      " -0.31471074 -0.30110509 -0.28768207 -0.27443685 -0.26136476 -0.24846136\n",
      " -0.23572233 -0.22314355 -0.21072103 -0.19845094 -0.18632958 -0.17435339\n",
      " -0.16251893 -0.15082289 -0.13926207 -0.12783337 -0.11653382 -0.10536052\n",
      " -0.09431068 -0.08338161 -0.07257069 -0.0618754  -0.05129329 -0.04082199\n",
      " -0.03045921 -0.02020271 -0.01005034  0.        ]\n"
     ]
    }
   ],
   "source": [
    "# Initial guess for value function\n",
    "V_init = utility(W_vec)\n",
    "print(V_init)"
   ]
  },
  {
   "cell_type": "code",
   "execution_count": 110,
   "metadata": {},
   "outputs": [
    {
     "data": {
      "text/plain": [
       "Text(0, 0.5, 'V')"
      ]
     },
     "execution_count": 110,
     "metadata": {},
     "output_type": "execute_result"
    },
    {
     "data": {
      "image/png": "[encoded data removed]",
      "text/plain": [
       "<Figure size 432x288 with 1 Axes>"
      ]
     },
     "metadata": {
      "needs_background": "light"
     },
     "output_type": "display_data"
    }
   ],
   "source": [
    "import matplotlib.pyplot as plt\n",
    "plt.plot(W_vec, V_init)\n",
    "plt.xlabel('W')\n",
    "plt.ylabel('V')"
   ]
  },
  {
   "cell_type": "markdown",
   "metadata": {},
   "source": [
    "#### Excercise 5.11"
   ]
  },
  {
   "cell_type": "code",
   "execution_count": 111,
   "metadata": {},
   "outputs": [
    {
     "data": {
      "text/plain": [
       "178.92611065972804"
      ]
     },
     "execution_count": 111,
     "metadata": {},
     "output_type": "execute_result"
    }
   ],
   "source": [
    "def dist(V_init, V_new):\n",
    "    dist = ((V_new - V_init)**2).sum() #sum of squared errors\n",
    "    return dist\n",
    "delta = dist(V_init, np.zeros(N))\n",
    "delta"
   ]
  },
  {
   "cell_type": "markdown",
   "metadata": {},
   "source": [
    "#### Excercise 5.12"
   ]
  },
  {
   "cell_type": "code",
   "execution_count": 112,
   "metadata": {},
   "outputs": [
    {
     "data": {
      "text/plain": [
       "array([0.01, 0.01, 0.01, 0.02, 0.02, 0.03, 0.03, 0.04, 0.04, 0.05, 0.05,\n",
       "       0.06, 0.06, 0.07, 0.07, 0.08, 0.08, 0.09, 0.09, 0.09, 0.1 , 0.1 ,\n",
       "       0.11, 0.11, 0.12, 0.12, 0.13, 0.13, 0.14, 0.14, 0.15, 0.15, 0.16,\n",
       "       0.16, 0.17, 0.17, 0.18, 0.18, 0.18, 0.19, 0.19, 0.2 , 0.2 , 0.21,\n",
       "       0.21, 0.22, 0.22, 0.23, 0.23, 0.24, 0.24, 0.25, 0.25, 0.26, 0.26,\n",
       "       0.27, 0.27, 0.27, 0.28, 0.28, 0.29, 0.29, 0.3 , 0.3 , 0.31, 0.31,\n",
       "       0.32, 0.32, 0.33, 0.33, 0.34, 0.34, 0.35, 0.35, 0.36, 0.36, 0.36,\n",
       "       0.37, 0.37, 0.38, 0.38, 0.39, 0.39, 0.4 , 0.4 , 0.41, 0.41, 0.42,\n",
       "       0.42, 0.43, 0.43, 0.44, 0.44, 0.45, 0.45, 0.45, 0.46, 0.46, 0.47,\n",
       "       0.47])"
      ]
     },
     "execution_count": 112,
     "metadata": {},
     "output_type": "execute_result"
    }
   ],
   "source": [
    "#Create utility matrix\n",
    "c_mat = np.tile(W_vec.reshape((N,1)), (1,N)) - np.tile(W_vec.reshape((1,N)), (N,1))\n",
    "c_pos = c_mat>0\n",
    "c_mat[~c_pos] = 1e-7 #lower traingle matrix\n",
    "u_mat = utility(c_mat)\n",
    "V_prime = np.tile(V_init.reshape((1,N)), (N,1))\n",
    "V_prime[~c_pos] = -9e+4\n",
    "V_new = (u_mat + beta*V_prime).max(axis = 1) #maximizing along the row\n",
    "delta = dist(V_init, V_new)\n",
    "W_index = np.argmax(u_mat + beta*V_prime, axis=1)\n",
    "W_prime = W_vec[W_index]\n",
    "W_prime"
   ]
  },
  {
   "cell_type": "code",
   "execution_count": 113,
   "metadata": {},
   "outputs": [
    {
     "data": {
      "text/plain": [
       "6562865744.5285635"
      ]
     },
     "execution_count": 113,
     "metadata": {},
     "output_type": "execute_result"
    }
   ],
   "source": [
    "delta = dist(V_init, V_new)\n",
    "delta"
   ]
  },
  {
   "cell_type": "markdown",
   "metadata": {},
   "source": [
    "#### Excercise 5.13"
   ]
  },
  {
   "cell_type": "code",
   "execution_count": 114,
   "metadata": {},
   "outputs": [
    {
     "data": {
      "text/plain": [
       "5315921432.356884"
      ]
     },
     "execution_count": 114,
     "metadata": {},
     "output_type": "execute_result"
    }
   ],
   "source": [
    "V_init = V_new\n",
    "V_prime = np.tile(V_init.reshape((1,N)), (N,1))\n",
    "V_prime[~c_pos] = -9e+4\n",
    "V_new = (u_mat + beta*V_prime).max(axis = 1) #maximizing along the row\n",
    "delta = dist(V_init, V_new)\n",
    "W_index = np.argmax(u_mat + beta*V_prime, axis=1)\n",
    "W_prime = W_vec[W_index]\n",
    "delta = dist(V_init, V_new)\n",
    "delta"
   ]
  },
  {
   "cell_type": "markdown",
   "metadata": {},
   "source": [
    "#### Excercise 5.14"
   ]
  },
  {
   "cell_type": "code",
   "execution_count": 115,
   "metadata": {},
   "outputs": [],
   "source": [
    "#set parameters\n",
    "maxiters = 500\n",
    "toler = 1e-9\n",
    "delta = 10.0\n",
    "VF_iter = 0"
   ]
  },
  {
   "cell_type": "code",
   "execution_count": 116,
   "metadata": {},
   "outputs": [
    {
     "name": "stdout",
     "output_type": "stream",
     "text": [
      "Iter= 1 , distance = 5315921432.356884\n",
      "Iter= 2 , distance = 4305896471.418966\n",
      "Iter= 3 , distance = 3487776216.5675955\n",
      "Iter= 4 , distance = 2825098788.019544\n",
      "Iter= 5 , distance = 2288330056.357764\n",
      "Iter= 6 , distance = 1853547373.8090138\n",
      "Iter= 7 , distance = 1501373394.0455368\n",
      "Iter= 8 , distance = 1216112465.4304204\n",
      "Iter= 9 , distance = 985051109.6286845\n",
      "Iter= 10 , distance = 797891408.7166361\n",
      "Iter= 11 , distance = 646292049.0098146\n",
      "Iter= 12 , distance = 523496566.09326845\n",
      "Iter= 13 , distance = 424032223.8060949\n",
      "Iter= 14 , distance = 343466105.6810028\n",
      "Iter= 15 , distance = 278207549.28964245\n",
      "Iter= 16 , distance = 225348118.14783967\n",
      "Iter= 17 , distance = 182531978.5237014\n",
      "Iter= 18 , distance = 147850905.07819986\n",
      "Iter= 19 , distance = 119759235.2952075\n",
      "Iter= 20 , distance = 97004982.62446027\n",
      "Iter= 21 , distance = 78574037.84896688\n",
      "Iter= 22 , distance = 63644972.47794887\n",
      "Iter= 23 , distance = 51552429.430967025\n",
      "Iter= 24 , distance = 41757469.47440472\n",
      "Iter= 25 , distance = 33823551.827785835\n",
      "Iter= 26 , distance = 27397078.459374633\n",
      "Iter= 27 , distance = 22191634.962838765\n",
      "Iter= 28 , distance = 17975225.668041237\n",
      "Iter= 29 , distance = 14559934.08201728\n",
      "Iter= 30 , distance = 11793547.845384818\n",
      "Iter= 31 , distance = 9552774.945148401\n",
      "Iter= 32 , distance = 7737748.852714853\n",
      "Iter= 33 , distance = 6267577.678039737\n",
      "Iter= 34 , distance = 5076738.990749551\n",
      "Iter= 35 , distance = 4112159.6213727905\n",
      "Iter= 36 , distance = 3330850.302746049\n",
      "Iter= 37 , distance = 2697989.7279021647\n",
      "Iter= 38 , distance = 2185372.6378935925\n",
      "Iter= 39 , distance = 1770152.7729575469\n",
      "Iter= 40 , distance = 1433824.6613737969\n",
      "Iter= 41 , distance = 1161398.8725077203\n",
      "Iter= 42 , distance = 940733.966255255\n",
      "Iter= 43 , distance = 761995.3766587331\n",
      "Iter= 44 , distance = 617217.1044967123\n",
      "Iter= 45 , distance = 499946.69099409645\n",
      "Iter= 46 , distance = 404957.64397924696\n",
      "Iter= 47 , distance = 328016.50488471217\n",
      "Iter= 48 , distance = 265694.17112556845\n",
      "Iter= 49 , distance = 215213.07107789887\n",
      "Iter= 50 , distance = 174323.37058658482\n",
      "Iter= 51 , distance = 141202.70459295483\n",
      "Iter= 52 , distance = 114374.95641636376\n",
      "Iter= 53 , distance = 92644.47264714992\n",
      "Iter= 54 , distance = 75042.7735946502\n",
      "Iter= 55 , distance = 60785.389507979846\n",
      "Iter= 56 , distance = 49236.90155629743\n",
      "Iter= 57 , distance = 39882.61927987316\n",
      "Iter= 58 , distance = 32305.644134738748\n",
      "Iter= 59 , distance = 26168.287223927535\n",
      "Iter= 60 , distance = 21197.021841587048\n",
      "Iter= 61 , distance = 17170.289488459726\n",
      "Iter= 62 , distance = 13908.630003651317\n",
      "Iter= 63 , distance = 11266.679087909873\n",
      "Iter= 64 , distance = 9126.692545526796\n",
      "Iter= 65 , distance = 7393.296313751705\n",
      "Iter= 66 , distance = 5989.23897649798\n",
      "Iter= 67 , distance = 4851.944658812899\n",
      "Iter= 68 , distance = 3930.7284462668263\n",
      "Iter= 69 , distance = 3184.5363230619337\n",
      "Iter= 70 , distance = 2580.112611342885\n",
      "Iter= 71 , distance = 2090.5221385606515\n",
      "Iter= 72 , distance = 1693.9447045654001\n",
      "Iter= 73 , distance = 1372.7078372150888\n",
      "Iter= 74 , distance = 1112.4977797380122\n",
      "Iter= 75 , distance = 901.7180385590614\n",
      "Iter= 76 , distance = 730.9748561441429\n",
      "Iter= 77 , distance = 592.6618350006563\n",
      "Iter= 78 , distance = 480.6183842258008\n",
      "Iter= 79 , distance = 389.85153775883634\n",
      "Iter= 80 , distance = 316.3162576883642\n",
      "Iter= 81 , distance = 256.73919927127844\n",
      "Iter= 82 , distance = 208.46968536316135\n",
      "Iter= 83 , distance = 169.3515350793084\n",
      "Iter= 84 , distance = 137.64926948497566\n",
      "Iter= 85 , distance = 111.95556810037779\n",
      "Iter= 86 , distance = 91.11923911040148\n",
      "Iter= 87 , distance = 74.22141799245615\n",
      "Iter= 88 , distance = 60.515875184857194\n",
      "Iter= 89 , distance = 49.378574412700395\n",
      "Iter= 90 , distance = 40.238518539504845\n",
      "Iter= 91 , distance = 32.122968879551344\n",
      "Iter= 92 , distance = 25.53883296249989\n",
      "Iter= 93 , distance = 19.764782340900425\n",
      "Iter= 94 , distance = 15.153203272642822\n",
      "Iter= 95 , distance = 11.172872644411502\n",
      "Iter= 96 , distance = 8.01896071891611\n",
      "Iter= 97 , distance = 5.340328256839245\n",
      "Iter= 98 , distance = 3.234203350397436\n",
      "Iter= 99 , distance = 1.4631241776503991\n",
      "Iter= 100 , distance = 0.0\n",
      "Congrats!\n",
      "V(W) [-8.10161181e+04 -7.29191115e+04 -6.56318055e+04 -5.90732301e+04\n",
      " -5.31705123e+04 -4.78580662e+04 -4.30768648e+04 -3.87737835e+04\n",
      " -3.49010103e+04 -3.14155144e+04 -2.82785681e+04 -2.54553165e+04\n",
      " -2.29143900e+04 -2.06275562e+04 -1.85694057e+04 -1.67170703e+04\n",
      " -1.50499685e+04 -1.35495768e+04 -1.21992243e+04 -1.09839070e+04\n",
      " -9.89012150e+03 -8.90571452e+03 -8.01974824e+03 -7.22237858e+03\n",
      " -6.50474589e+03 -5.85887647e+03 -5.27759400e+03 -4.75443977e+03\n",
      " -4.28360096e+03 -3.85984604e+03 -3.47846660e+03 -3.13522511e+03\n",
      " -2.82630777e+03 -2.54828216e+03 -2.29805912e+03 -2.07285838e+03\n",
      " -1.87017771e+03 -1.68776511e+03 -1.52359377e+03 -1.37583956e+03\n",
      " -1.24286077e+03 -1.12317987e+03 -1.01546705e+03 -9.18525516e+02\n",
      " -8.31278135e+02 -7.52755491e+02 -6.82085112e+02 -6.18481771e+02\n",
      " -5.61238764e+02 -5.09720058e+02 -4.63353223e+02 -4.21623071e+02\n",
      " -3.84065934e+02 -3.50264510e+02 -3.19843230e+02 -2.92464077e+02\n",
      " -2.67822839e+02 -2.45645726e+02 -2.25686323e+02 -2.07722861e+02\n",
      " -1.91555745e+02 -1.77005341e+02 -1.63909977e+02 -1.52124149e+02\n",
      " -1.41516905e+02 -1.31970384e+02 -1.23378516e+02 -1.15645835e+02\n",
      " -1.08686421e+02 -1.02422949e+02 -9.67858247e+01 -9.17124124e+01\n",
      " -8.71463414e+01 -8.30368774e+01 -7.93383599e+01 -7.60096941e+01\n",
      " -7.30138948e+01 -7.03176755e+01 -6.78910782e+01 -6.57071405e+01\n",
      " -6.37415967e+01 -6.19726072e+01 -6.03805167e+01 -5.89476352e+01\n",
      " -5.76580418e+01 -5.64974078e+01 -5.54528372e+01 -5.45127237e+01\n",
      " -5.36666215e+01 -5.29051296e+01 -5.22119824e+01 -5.15266396e+01\n",
      " -5.09028071e+01 -5.02859987e+01 -4.97245494e+01 -4.91694218e+01\n",
      " -4.86641175e+01 -4.81645026e+01 -4.77097288e+01 -4.72600754e+01]\n"
     ]
    }
   ],
   "source": [
    "while delta>toler and VF_iter<maxiters:\n",
    "    VF_iter += 1\n",
    "    #One contraction mapping\n",
    "    V_prime = np.tile(V_init.reshape((1,N)), (N,1))\n",
    "    V_prime[~c_pos] = -9e+4\n",
    "    V_new = (u_mat + beta*V_prime).max(axis = 1) #maximizing along the row\n",
    "    delta = dist(V_init, V_new)\n",
    "    W_index = np.argmax(u_mat + beta*V_prime, axis=1)\n",
    "    W_prime = W_vec[W_index]\n",
    "    print('Iter=', VF_iter, ', distance =', delta)\n",
    "    V_init = V_new\n",
    "print(\"Congrats!\")\n",
    "print('V(W)', V_init)"
   ]
  },
  {
   "cell_type": "markdown",
   "metadata": {},
   "source": [
    "#### Excercise 5.15"
   ]
  },
  {
   "cell_type": "code",
   "execution_count": 117,
   "metadata": {},
   "outputs": [
    {
     "data": {
      "text/plain": [
       "[<matplotlib.lines.Line2D at 0x58c5510>]"
      ]
     },
     "execution_count": 117,
     "metadata": {},
     "output_type": "execute_result"
    },
    {
     "data": {
      "image/png": "[encoded data removed]",
      "text/plain": [
       "<Figure size 432x288 with 1 Axes>"
      ]
     },
     "metadata": {
      "needs_background": "light"
     },
     "output_type": "display_data"
    }
   ],
   "source": [
    "plt.plot(W_vec, W_prime)"
   ]
  },
  {
   "cell_type": "markdown",
   "metadata": {},
   "source": [
    "### Stochastic process\n",
    "$$V ( W , \\varepsilon ) = \\max _ { W ^ { \\prime } \\in [ 0 , W ] } \\varepsilon u \\left( W - W ^ { \\prime } \\right) + \\beta E _ { \\varepsilon ^ { \\prime } } \\left[ V \\left( W ^ { \\prime } , \\varepsilon ^ { \\prime } \\right) \\right] \\quad \\text { where } \\quad \\varepsilon \\sim \\mathrm { N } \\left( \\mu , \\sigma ^ { 2 } \\right)$$"
   ]
  },
  {
   "cell_type": "markdown",
   "metadata": {},
   "source": [
    "#### Excercise 5.16"
   ]
  },
  {
   "cell_type": "code",
   "execution_count": 130,
   "metadata": {},
   "outputs": [],
   "source": [
    "sigma = 0.05\n",
    "M = 7\n",
    "mu = 4*sigma\n",
    "e_ub = mu+3*sigma\n",
    "e_lb = mu-3*sigma\n",
    "epsilon = np.linspace(e_lb, e_ub, M)"
   ]
  },
  {
   "cell_type": "code",
   "execution_count": 216,
   "metadata": {},
   "outputs": [
    {
     "data": {
      "text/plain": [
       "array([0.08863697, 1.07981933, 4.83941449, 7.97884561, 4.83941449,\n",
       "       1.07981933, 0.08863697])"
      ]
     },
     "execution_count": 216,
     "metadata": {},
     "output_type": "execute_result"
    }
   ],
   "source": [
    "import scipy.stats as sp\n",
    "f = lambda x: sp.norm(loc=mu, scale=sigma).pdf(x)\n",
    "gamma = f(epsilon)\n",
    "gamma"
   ]
  },
  {
   "cell_type": "markdown",
   "metadata": {},
   "source": [
    "#### Excercise 5.17"
   ]
  },
  {
   "cell_type": "code",
   "execution_count": 325,
   "metadata": {},
   "outputs": [],
   "source": [
    "#Set a vetor of discretized cake sizes\n",
    "W_lb = 1e-2\n",
    "W_ub = 1.0\n",
    "N = 100\n",
    "W_vec = np.linspace(W_lb, W_ub, N)"
   ]
  },
  {
   "cell_type": "code",
   "execution_count": 326,
   "metadata": {},
   "outputs": [
    {
     "name": "stdout",
     "output_type": "stream",
     "text": [
      "(7, 100, 100)\n"
     ]
    }
   ],
   "source": [
    "#epsilon * u(W-W')\n",
    "c_mat = np.tile(W_vec.reshape((N,1)), (1,N)) - np.tile(W_vec.reshape((1,N)), (N,1))\n",
    "c_pos = c_mat>0\n",
    "c_mat[~c_pos] = 1e-7 #lower traingle matrix\n",
    "u_mat = utility(c_mat)\n",
    "eu_cube = np.array([u_mat*e for e in epsilon])#(M,N,N) 3D array\n",
    "print(eu_cube.shape)"
   ]
  },
  {
   "cell_type": "code",
   "execution_count": 327,
   "metadata": {},
   "outputs": [],
   "source": [
    "#value function of entering T+1 with W'\n",
    "#V_prime = utility(W_vec).reshape((N,1))*epsilon\n",
    "V_init = np.zeros((N,M))\n",
    "#V_init[~c_pos] = -9e+4\n",
    "EV_prime = (V_init @ gamma).reshape((N,1)) #(W', 1)\n",
    "EV_prime_mat = np.tile(EV_prime.reshape((1,N)), (N,1))\n",
    "EV_prime_mat[~c_pos] = -9e+4\n",
    "EV_prime_cube = np.array([EV_prime_mat for e in range(M)]) "
   ]
  },
  {
   "cell_type": "code",
   "execution_count": 328,
   "metadata": {},
   "outputs": [],
   "source": [
    "V_new = (eu_cube + beta * EV_prime_cube).max(axis=1).transpose() #(W, e)/(N, M)\n",
    "W_index = np.argmax(eu_cube + beta * EV_prime_cube, axis=1)\n",
    "W_prime = np.tile(W_vec.reshape((N,1)), (1,M))[W_index] #(W,e)"
   ]
  },
  {
   "cell_type": "markdown",
   "metadata": {},
   "source": [
    "#### Excercise 5.18"
   ]
  },
  {
   "cell_type": "code",
   "execution_count": 329,
   "metadata": {},
   "outputs": [
    {
     "data": {
      "text/plain": [
       "45930655737.64534"
      ]
     },
     "execution_count": 329,
     "metadata": {},
     "output_type": "execute_result"
    }
   ],
   "source": [
    "def dist(V_init, V_new):\n",
    "    V_diff = (V_init-V_new).flatten('F')\n",
    "    dist = V_diff.transpose()@V_diff\n",
    "    return dist\n",
    "dist(V_init, V_new)"
   ]
  },
  {
   "cell_type": "markdown",
   "metadata": {},
   "source": [
    "#### Excercise 5.19"
   ]
  },
  {
   "cell_type": "code",
   "execution_count": 330,
   "metadata": {},
   "outputs": [],
   "source": [
    "V_init = V_new\n",
    "EV_prime = (V_init @ gamma).reshape((N,1))\n",
    "EV_prime_mat = np.tile(EV_prime.reshape((1,N)), (N,1))\n",
    "EV_prime_mat[~c_pos] = -9e+4\n",
    "EV_prime_cube = np.array([EV_prime_mat for e in range(M)]) \n",
    "V_new = (eu_cube + beta*EV_prime_cube).max(axis=1).transpose()"
   ]
  },
  {
   "cell_type": "code",
   "execution_count": 331,
   "metadata": {},
   "outputs": [
    {
     "data": {
      "text/plain": [
       "16223.3917723122"
      ]
     },
     "execution_count": 331,
     "metadata": {},
     "output_type": "execute_result"
    }
   ],
   "source": [
    "dist(V_init, V_new)"
   ]
  },
  {
   "cell_type": "markdown",
   "metadata": {},
   "source": [
    "#### Excercise 5.20"
   ]
  },
  {
   "cell_type": "code",
   "execution_count": 332,
   "metadata": {},
   "outputs": [
    {
     "data": {
      "text/plain": [
       "5253534.138986076"
      ]
     },
     "execution_count": 332,
     "metadata": {},
     "output_type": "execute_result"
    }
   ],
   "source": [
    "V_init = V_new\n",
    "EV_prime = (V_init @ gamma).reshape((N,1))\n",
    "EV_prime_mat = np.tile(EV_prime.reshape((1,N)), (N,1))\n",
    "EV_prime_mat[~c_pos] = -9e+4\n",
    "EV_prime_cube = np.array([EV_prime_mat for e in range(M)]) \n",
    "V_new = (eu_cube + beta*EV_prime_cube).max(axis=1).transpose()\n",
    "dist(V_init, V_new)"
   ]
  },
  {
   "cell_type": "markdown",
   "metadata": {},
   "source": [
    "#### Excercise 5.21"
   ]
  },
  {
   "cell_type": "code",
   "execution_count": 366,
   "metadata": {},
   "outputs": [
    {
     "name": "stdout",
     "output_type": "stream",
     "text": [
      "Iter= 1 , distance=  45930655737.64534\n",
      "Iter= 2 , distance=  16223.3917723122\n",
      "Iter= 3 , distance=  5253534.138986076\n",
      "Iter= 4 , distance=  1701223846.2116983\n",
      "Iter= 5 , distance=  518813656513.1145\n",
      "Iter= 6 , distance=  2186621133313.083\n",
      "Iter= 7 , distance=  263770458241.2871\n",
      "Iter= 8 , distance=  533625542.1073733\n",
      "Iter= 9 , distance=  0.0\n"
     ]
    },
    {
     "data": {
      "text/plain": [
       "array([[0, 0, 0, 0, 0, 0, 0, 0, 0, 0, 0, 0, 0, 0, 0, 0, 0, 0, 0, 0, 0, 0,\n",
       "        0, 0, 0, 0, 0, 0, 0, 0, 0, 0, 0, 0, 0, 0, 0, 0, 0, 0, 0, 0, 0, 0,\n",
       "        0, 0, 0, 0, 0, 0, 0, 0, 0, 0, 0, 0, 0, 0, 0, 0, 0, 0, 0, 0, 0, 0,\n",
       "        0, 0, 0, 0, 0, 0, 0, 0, 0, 0, 0, 0, 0, 0, 0, 0, 0, 0, 0, 0, 0, 0,\n",
       "        0, 0, 0, 0, 0, 0, 0, 0, 0, 0, 0, 0],\n",
       "       [0, 0, 0, 0, 0, 0, 0, 0, 0, 0, 0, 0, 0, 0, 0, 0, 0, 0, 0, 0, 0, 0,\n",
       "        0, 0, 0, 0, 0, 0, 0, 0, 0, 0, 0, 0, 0, 0, 0, 0, 0, 0, 0, 0, 0, 0,\n",
       "        0, 0, 0, 0, 0, 0, 0, 0, 0, 0, 0, 0, 0, 0, 0, 0, 0, 0, 0, 0, 0, 0,\n",
       "        0, 0, 0, 0, 0, 0, 0, 0, 0, 0, 0, 0, 0, 0, 0, 0, 0, 0, 0, 0, 0, 0,\n",
       "        0, 0, 0, 0, 0, 0, 0, 0, 0, 0, 0, 0],\n",
       "       [0, 0, 0, 0, 0, 0, 0, 0, 0, 0, 0, 0, 0, 0, 0, 0, 0, 0, 0, 0, 0, 0,\n",
       "        0, 0, 0, 0, 0, 0, 0, 0, 0, 0, 0, 0, 0, 0, 0, 0, 0, 0, 0, 0, 0, 0,\n",
       "        0, 0, 0, 0, 0, 0, 0, 0, 0, 0, 0, 0, 0, 0, 0, 0, 0, 0, 0, 0, 0, 0,\n",
       "        0, 0, 0, 0, 0, 0, 0, 0, 0, 0, 0, 0, 0, 0, 0, 0, 0, 0, 0, 0, 0, 0,\n",
       "        0, 0, 0, 0, 0, 0, 0, 0, 0, 0, 0, 0],\n",
       "       [0, 0, 0, 0, 0, 0, 0, 0, 0, 0, 0, 0, 0, 0, 0, 0, 0, 0, 0, 0, 0, 0,\n",
       "        0, 0, 0, 0, 0, 0, 0, 0, 0, 0, 0, 0, 0, 0, 0, 0, 0, 0, 0, 0, 0, 0,\n",
       "        0, 0, 0, 0, 0, 0, 0, 0, 0, 0, 0, 0, 0, 0, 0, 0, 0, 0, 0, 0, 0, 0,\n",
       "        0, 0, 0, 0, 0, 0, 0, 0, 0, 0, 0, 0, 0, 0, 0, 0, 0, 0, 0, 0, 0, 0,\n",
       "        0, 0, 0, 0, 0, 0, 0, 0, 0, 0, 0, 0],\n",
       "       [0, 0, 0, 0, 0, 0, 0, 0, 0, 0, 0, 0, 0, 0, 0, 0, 0, 0, 0, 0, 0, 0,\n",
       "        0, 0, 0, 0, 0, 0, 0, 0, 0, 0, 0, 0, 0, 0, 0, 0, 0, 0, 0, 0, 0, 0,\n",
       "        0, 0, 0, 0, 0, 0, 0, 0, 0, 0, 0, 0, 0, 0, 0, 0, 0, 0, 0, 0, 0, 0,\n",
       "        0, 0, 0, 0, 0, 0, 0, 0, 0, 0, 0, 0, 0, 0, 0, 0, 0, 0, 0, 0, 0, 0,\n",
       "        0, 0, 0, 0, 0, 0, 0, 0, 0, 0, 0, 0],\n",
       "       [0, 0, 0, 0, 0, 0, 0, 0, 0, 0, 0, 0, 0, 0, 0, 0, 0, 0, 0, 0, 0, 0,\n",
       "        0, 0, 0, 0, 0, 0, 0, 0, 0, 0, 0, 0, 0, 0, 0, 0, 0, 0, 0, 0, 0, 0,\n",
       "        0, 0, 0, 0, 0, 0, 0, 0, 0, 0, 0, 0, 0, 0, 0, 0, 0, 0, 0, 0, 0, 0,\n",
       "        0, 0, 0, 0, 0, 0, 0, 0, 0, 0, 0, 0, 0, 0, 0, 0, 0, 0, 0, 0, 0, 0,\n",
       "        0, 0, 0, 0, 0, 0, 0, 0, 0, 0, 0, 0],\n",
       "       [0, 0, 0, 0, 0, 0, 0, 0, 0, 0, 0, 0, 0, 0, 0, 0, 0, 0, 0, 0, 0, 0,\n",
       "        0, 0, 0, 0, 0, 0, 0, 0, 0, 0, 0, 0, 0, 0, 0, 0, 0, 0, 0, 0, 0, 0,\n",
       "        0, 0, 0, 0, 0, 0, 0, 0, 0, 0, 0, 0, 0, 0, 0, 0, 0, 0, 0, 0, 0, 0,\n",
       "        0, 0, 0, 0, 0, 0, 0, 0, 0, 0, 0, 0, 0, 0, 0, 0, 0, 0, 0, 0, 0, 0,\n",
       "        0, 0, 0, 0, 0, 0, 0, 0, 0, 0, 0, 0]], dtype=int32)"
      ]
     },
     "execution_count": 366,
     "metadata": {},
     "output_type": "execute_result"
    }
   ],
   "source": [
    "maxiters = 500\n",
    "toler = 1e-9\n",
    "delta = 10.0\n",
    "VF_iter = 0\n",
    "V_init = np.zeros((N,M))\n",
    "while delta>toler and VF_iter<maxiters:\n",
    "    VF_iter += 1\n",
    "    EV_prime = (V_init @ gamma).reshape((N,1))\n",
    "    EV_prime_mat = np.tile(EV_prime.reshape((1,N)), (N,1))\n",
    "    EV_prime_mat[~c_pos] = -9e+4\n",
    "    EV_prime_cube = np.array([EV_prime_mat for e in range(M)]) \n",
    "    V_new = (eu_cube + beta*EV_prime_cube).max(axis=1).transpose()\n",
    "    delta = dist(V_init, V_new)\n",
    "    W_index = np.argmax(eu_cube + beta * EV_prime_cube, axis=1) #(M,N)\n",
    "    #_prime = np.tile(W_vec, (M,1))[W_index]\n",
    "    print('Iter=', VF_iter, ', distance= ', delta)\n",
    "    V_init = V_new\n",
    "\n",
    "#W_prime\n",
    "W_index"
   ]
  },
  {
   "cell_type": "code",
   "execution_count": null,
   "metadata": {},
   "outputs": [],
   "source": []
  },
  {
   "cell_type": "markdown",
   "metadata": {},
   "source": [
    "#### Excercise 5.22"
   ]
  },
  {
   "cell_type": "code",
   "execution_count": 362,
   "metadata": {},
   "outputs": [
    {
     "data": {
      "text/plain": [
       "(7, 100, 100)"
      ]
     },
     "execution_count": 362,
     "metadata": {},
     "output_type": "execute_result"
    },
    {
     "data": {
      "image/png": "[encoded data removed]",
      "text/plain": [
       "<Figure size 432x288 with 1 Axes>"
      ]
     },
     "metadata": {
      "needs_background": "light"
     },
     "output_type": "display_data"
    }
   ],
   "source": [
    "from mpl_toolkits import mplot3d\n",
    "fig = plt.figure()\n",
    "ax = fig.gca(projection='3d')\n",
    "#ax.plot_surface(W_vec, epsilon, W_prime)\n",
    "W_prime.shape"
   ]
  },
  {
   "cell_type": "code",
   "execution_count": null,
   "metadata": {},
   "outputs": [],
   "source": []
  }
 ],
 "metadata": {
  "kernelspec": {
   "display_name": "Python 3",
   "language": "python",
   "name": "python3"
  },
  "language_info": {
   "codemirror_mode": {
    "name": "ipython",
    "version": 3
   },
   "file_extension": ".py",
   "mimetype": "text/x-python",
   "name": "python",
   "nbconvert_exporter": "python",
   "pygments_lexer": "ipython3",
   "version": "3.6.4"
  }
 },
 "nbformat": 4,
 "nbformat_minor": 2
}
