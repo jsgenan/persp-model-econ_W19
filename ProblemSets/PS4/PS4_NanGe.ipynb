{
 "cells": [
  {
   "cell_type": "markdown",
   "metadata": {},
   "source": [
    "### Question 1"
   ]
  },
  {
   "cell_type": "markdown",
   "metadata": {},
   "source": [
    "#### Part(a)"
   ]
  },
  {
   "cell_type": "code",
   "execution_count": 138,
   "metadata": {},
   "outputs": [
    {
     "data": {
      "text/html": [
       "<div>\n",
       "<style scoped>\n",
       "    .dataframe tbody tr th:only-of-type {\n",
       "        vertical-align: middle;\n",
       "    }\n",
       "\n",
       "    .dataframe tbody tr th {\n",
       "        vertical-align: top;\n",
       "    }\n",
       "\n",
       "    .dataframe thead th {\n",
       "        text-align: right;\n",
       "    }\n",
       "</style>\n",
       "<table border=\"1\" class=\"dataframe\">\n",
       "  <thead>\n",
       "    <tr style=\"text-align: right;\">\n",
       "      <th></th>\n",
       "      <th>income</th>\n",
       "    </tr>\n",
       "  </thead>\n",
       "  <tbody>\n",
       "    <tr>\n",
       "      <th>0</th>\n",
       "      <td>51253.497156</td>\n",
       "    </tr>\n",
       "    <tr>\n",
       "      <th>1</th>\n",
       "      <td>100630.320241</td>\n",
       "    </tr>\n",
       "    <tr>\n",
       "      <th>2</th>\n",
       "      <td>83009.276137</td>\n",
       "    </tr>\n",
       "    <tr>\n",
       "      <th>3</th>\n",
       "      <td>82882.106543</td>\n",
       "    </tr>\n",
       "    <tr>\n",
       "      <th>4</th>\n",
       "      <td>77338.294839</td>\n",
       "    </tr>\n",
       "  </tbody>\n",
       "</table>\n",
       "</div>"
      ],
      "text/plain": [
       "          income\n",
       "0   51253.497156\n",
       "1  100630.320241\n",
       "2   83009.276137\n",
       "3   82882.106543\n",
       "4   77338.294839"
      ]
     },
     "execution_count": 138,
     "metadata": {},
     "output_type": "execute_result"
    }
   ],
   "source": [
    "import numpy as np\n",
    "import pandas as pd\n",
    "\n",
    "#Load the data\n",
    "df = pd.read_csv('data/incomes.txt',sep=' ', header=None, names=[\"income\"])\n",
    "df.head()"
   ]
  },
  {
   "cell_type": "code",
   "execution_count": 139,
   "metadata": {},
   "outputs": [
    {
     "data": {
      "image/png": "[encoded data removed]",
      "text/plain": [
       "<Figure size 432x288 with 1 Axes>"
      ]
     },
     "metadata": {
      "needs_background": "light"
     },
     "output_type": "display_data"
    }
   ],
   "source": [
    "import matplotlib\n",
    "import matplotlib.pyplot as plt\n",
    "import matplotlib.ticker as mticker\n",
    "\n",
    "plt.hist(df.income, bins=30, alpha=0.75, rwidth=0.85,density=True)\n",
    "plt.xlabel('Incomes')\n",
    "plt.ylabel('Density')\n",
    "plt.title('Distribution of Annual Incomes')\n",
    "plt.show()"
   ]
  },
  {
   "cell_type": "markdown",
   "metadata": {},
   "source": [
    "#### Part(b)"
   ]
  },
  {
   "cell_type": "code",
   "execution_count": 140,
   "metadata": {
    "scrolled": true
   },
   "outputs": [
    {
     "data": {
      "image/png": "[encoded data removed]",
      "text/plain": [
       "<Figure size 432x288 with 1 Axes>"
      ]
     },
     "metadata": {
      "needs_background": "light"
     },
     "output_type": "display_data"
    }
   ],
   "source": [
    "from scipy.stats import lognorm\n",
    "x = np.linspace(0, 150000, 1000)\n",
    "y = lognorm.pdf(x, 0.5, scale=np.exp(11))\n",
    "plt.hist(df.income, bins=30, alpha=0.75, rwidth=0.85,density=True)\n",
    "plt.plot(x, y, label='mu=11, sigma=0.5')\n",
    "plt.xlabel('Incomes')\n",
    "plt.ylabel('Density')\n",
    "plt.title('Distribution of Annual Incomes')\n",
    "plt.legend(loc='upper left')\n",
    "plt.show()"
   ]
  },
  {
   "cell_type": "code",
   "execution_count": 141,
   "metadata": {},
   "outputs": [
    {
     "name": "stdout",
     "output_type": "stream",
     "text": [
      "Given the parameterization and data, the log likelihood value is  -2385.856997808558\n"
     ]
    }
   ],
   "source": [
    "#Define function that generates a log-normal pdf\n",
    "def ln_pdf(x, mu, sigma):\n",
    "    val_pdf = 1/(x*sigma*np.sqrt(2*np.pi))*np.exp(-(np.log(x)-mu)**2/(2*(sigma**2)))\n",
    "    return val_pdf\n",
    "\n",
    "def log_ln_pdf(x, mu, sigma):\n",
    "    log_val_pdf = np.log(ln_pdf(x, mu, sigma))\n",
    "    return log_val_pdf.sum()\n",
    "\n",
    "log_lik = log_ln_pdf(df1.income, 11, 0.5)\n",
    "print('Given the parameterization and data, the log likelihood value is ', log_lik)"
   ]
  },
  {
   "cell_type": "markdown",
   "metadata": {},
   "source": [
    "#### Part(c)"
   ]
  },
  {
   "cell_type": "code",
   "execution_count": 142,
   "metadata": {},
   "outputs": [
    {
     "name": "stdout",
     "output_type": "stream",
     "text": [
      "The optimized result is mu = 11.50, sigma = 0.31\n",
      "The value of the likelihood function is  -2285.899954411707\n",
      "The inverse Hessian matrix is  [[ 4.59466269e-04 -6.65453258e-05]\n",
      " [-6.65453258e-05  1.71221450e-03]]\n"
     ]
    }
   ],
   "source": [
    "import scipy.optimize as opt\n",
    "#The criterion function\n",
    "\n",
    "def crit(params, x):\n",
    "    mu, sigma = params\n",
    "    #print(x, mu, sigma)\n",
    "    sum = -log_ln_pdf(x, mu, sigma)\n",
    "    #print(mu, sigma, sum)\n",
    "    return sum\n",
    "\n",
    "#Initial guess of mu and sigma\n",
    "mu_init = 11  # mu_2\n",
    "sig_init = 0.5  # sig_2\n",
    "params_init = np.array([mu_init, sig_init])\n",
    "bnds = ((None, None), (1e-10, None))\n",
    "x = df.income[mask]\n",
    "np.seterr(divide = 'ignore')\n",
    "results = opt.minimize(crit, params_init, x, bounds=bnds)\n",
    "mu, sigma = results.x\n",
    "Hess = results.hess_inv.todense()\n",
    "fval = -results.fun\n",
    "print('The optimized result is mu = {:.2f}, sigma = {:.2f}'.format(mu, sigma))\n",
    "print('The value of the likelihood function is ', fval)\n",
    "print('The inverse Hessian matrix is ', Hess)"
   ]
  },
  {
   "cell_type": "code",
   "execution_count": 135,
   "metadata": {},
   "outputs": [
    {
     "data": {
      "image/png": "[encoded data removed]",
      "text/plain": [
       "<Figure size 432x288 with 1 Axes>"
      ]
     },
     "metadata": {
      "needs_background": "light"
     },
     "output_type": "display_data"
    }
   ],
   "source": [
    "income_vector = np.linspace(0, 150000, 1000)\n",
    "p = lognorm.pdf(income_vector, s=sigma, scale=np.exp(mu))\n",
    "count, bins, ignored = plt.hist(df.income, bins=30, alpha=0.75, rwidth=0.85,density=True)\n",
    "plt.plot(income_vector, p, label='mu=11.5, sigma=0.31')\n",
    "plt.hist(df.income, bins=30, alpha=0.75, rwidth=0.85,density=True)\n",
    "plt.plot(income_vector, lognorm.pdf(income_vector, s=0.5, scale=np.exp(11)), label='mu=11, sigma=0.5')\n",
    "plt.xlabel('Incomes')\n",
    "plt.ylabel('Percentage')\n",
    "plt.title('Distribution of Annual Incomes')\n",
    "plt.legend(loc='upper left')\n",
    "plt.show()"
   ]
  },
  {
   "cell_type": "markdown",
   "metadata": {},
   "source": [
    "#### Part(d)"
   ]
  },
  {
   "cell_type": "code",
   "execution_count": 136,
   "metadata": {},
   "outputs": [
    {
     "name": "stdout",
     "output_type": "stream",
     "text": [
      "hypothesis value log likelihood -2385.856997808558\n",
      "MLE log likelihood -2285.899954411707\n",
      "likelihood ratio value 199.91408679370215\n",
      "chi squared of H0 with 2 degrees of freedom p-value =  0.0\n"
     ]
    }
   ],
   "source": [
    "from scipy.stats import chi2\n",
    "mu0, sigma0 = 11, 0.5\n",
    "log_lik_h0 = log_ln_pdf(df.income, mu0, sigma0)\n",
    "print('hypothesis value log likelihood', log_lik_h0)\n",
    "log_lik_mle = log_ln_pdf(df.income, mu, sigma)\n",
    "print('MLE log likelihood', log_lik_mle)\n",
    "LR_val = 2 * (log_lik_mle - log_lik_h0)\n",
    "print('likelihood ratio value', LR_val)\n",
    "pval_h0 = 1.0 - chi2.cdf(LR_val, 2)\n",
    "print('chi squared of H0 with 2 degrees of freedom p-value = ', pval_h0)"
   ]
  },
  {
   "cell_type": "markdown",
   "metadata": {},
   "source": [
    "#### Part(e)"
   ]
  },
  {
   "cell_type": "code",
   "execution_count": 137,
   "metadata": {},
   "outputs": [
    {
     "name": "stdout",
     "output_type": "stream",
     "text": [
      "Probability of earning more than $100,000 is 0.48\n",
      "Probability of earning less than $75,000 is 0.19\n"
     ]
    }
   ],
   "source": [
    "p1 = 1 - lognorm.cdf(100000, s=sigma, scale=np.exp(mu))\n",
    "p2 = lognorm.cdf(75000, s=sigma, scale=np.exp(mu))\n",
    "print('Probability of earning more than $100,000 is {:.2f}'.format(p1))\n",
    "print('Probability of earning less than $75,000 is {:.2f}'.format(p2))"
   ]
  },
  {
   "cell_type": "markdown",
   "metadata": {},
   "source": [
    "### Question 2"
   ]
  },
  {
   "cell_type": "code",
   "execution_count": 143,
   "metadata": {},
   "outputs": [
    {
     "data": {
      "text/html": [
       "<div>\n",
       "<style scoped>\n",
       "    .dataframe tbody tr th:only-of-type {\n",
       "        vertical-align: middle;\n",
       "    }\n",
       "\n",
       "    .dataframe tbody tr th {\n",
       "        vertical-align: top;\n",
       "    }\n",
       "\n",
       "    .dataframe thead th {\n",
       "        text-align: right;\n",
       "    }\n",
       "</style>\n",
       "<table border=\"1\" class=\"dataframe\">\n",
       "  <thead>\n",
       "    <tr style=\"text-align: right;\">\n",
       "      <th></th>\n",
       "      <th>sick</th>\n",
       "      <th>age</th>\n",
       "      <th>children</th>\n",
       "      <th>temp_winter</th>\n",
       "    </tr>\n",
       "  </thead>\n",
       "  <tbody>\n",
       "    <tr>\n",
       "      <th>0</th>\n",
       "      <td>1.67</td>\n",
       "      <td>57.47</td>\n",
       "      <td>3.04</td>\n",
       "      <td>54.10</td>\n",
       "    </tr>\n",
       "    <tr>\n",
       "      <th>1</th>\n",
       "      <td>0.71</td>\n",
       "      <td>26.77</td>\n",
       "      <td>1.20</td>\n",
       "      <td>36.54</td>\n",
       "    </tr>\n",
       "    <tr>\n",
       "      <th>2</th>\n",
       "      <td>1.39</td>\n",
       "      <td>41.85</td>\n",
       "      <td>2.31</td>\n",
       "      <td>32.38</td>\n",
       "    </tr>\n",
       "    <tr>\n",
       "      <th>3</th>\n",
       "      <td>1.37</td>\n",
       "      <td>51.27</td>\n",
       "      <td>2.46</td>\n",
       "      <td>52.94</td>\n",
       "    </tr>\n",
       "    <tr>\n",
       "      <th>4</th>\n",
       "      <td>1.45</td>\n",
       "      <td>44.22</td>\n",
       "      <td>2.72</td>\n",
       "      <td>45.90</td>\n",
       "    </tr>\n",
       "  </tbody>\n",
       "</table>\n",
       "</div>"
      ],
      "text/plain": [
       "   sick    age  children  temp_winter\n",
       "0  1.67  57.47      3.04        54.10\n",
       "1  0.71  26.77      1.20        36.54\n",
       "2  1.39  41.85      2.31        32.38\n",
       "3  1.37  51.27      2.46        52.94\n",
       "4  1.45  44.22      2.72        45.90"
      ]
     },
     "execution_count": 143,
     "metadata": {},
     "output_type": "execute_result"
    }
   ],
   "source": [
    "#Load the data\n",
    "text = []\n",
    "with open('data/sick.txt') as f:\n",
    "    for line in f:\n",
    "        text.append(line.rsplit()[0].split(','))\n",
    "text = np.array(text)\n",
    "df = pd.DataFrame(text[1:], columns=['sick', 'age', 'children', 'temp_winter']).astype('float64')\n",
    "df.head()"
   ]
  },
  {
   "cell_type": "markdown",
   "metadata": {},
   "source": [
    "#### Part(a)"
   ]
  },
  {
   "cell_type": "code",
   "execution_count": 144,
   "metadata": {},
   "outputs": [],
   "source": [
    "from scipy.stats import norm\n",
    "import math\n",
    "def norm_pdf(x, sigma):\n",
    "    p = norm.pdf(x, 0, sigma)\n",
    "    return p\n",
    "\n",
    "def log_lik_norm(y, x1, x2, x3, b0, b1, b2, b3, sigma):\n",
    "    res = y - b0 - x1*b1 - x2*b2 - x3*b3\n",
    "    p = norm_pdf(res, sigma)\n",
    "    log_lik = np.log(p)\n",
    "    return log_lik.sum()\n",
    "\n",
    "def crit(params, *args):\n",
    "    b0, b1, b2, b3, sigma = params\n",
    "    y, x1, x2, x3 = args\n",
    "    neg_log_lik = -log_lik_norm(y, x1, x2, x3, b0, b1, b2, b3, sigma)\n",
    "    #print(b0, b1, b2, b3, neg_log_lik)\n",
    "    return neg_log_lik"
   ]
  },
  {
   "cell_type": "code",
   "execution_count": 145,
   "metadata": {},
   "outputs": [
    {
     "name": "stdout",
     "output_type": "stream",
     "text": [
      "Warning: Desired error not necessarily achieved due to precision loss.\n",
      "         Current function value: -876.865046\n",
      "         Iterations: 40\n",
      "         Function evaluations: 1346\n",
      "         Gradient evaluations: 190\n"
     ]
    },
    {
     "data": {
      "text/plain": [
       "      fun: -876.8650462890186\n",
       " hess_inv: array([[ 9.27573453e-07,  6.91342071e-09, -1.51802765e-07,\n",
       "        -2.07231322e-08, -4.47965526e-10],\n",
       "       [ 6.91342071e-09,  4.03650482e-09, -3.63332995e-08,\n",
       "        -2.50514048e-09,  2.52215386e-11],\n",
       "       [-1.51802765e-07, -3.63332995e-08,  3.73970591e-07,\n",
       "         2.28278928e-08, -3.66044604e-10],\n",
       "       [-2.07231322e-08, -2.50514048e-09,  2.28278928e-08,\n",
       "         1.91740562e-09,  2.28426437e-12],\n",
       "       [-4.47965526e-10,  2.52215386e-11, -3.66044604e-10,\n",
       "         2.28426437e-12,  2.27938897e-08]])\n",
       "      jac: array([0.00152588, 0.07671356, 0.00409698, 0.06681824, 0.00237274])\n",
       "  message: 'Desired error not necessarily achieved due to precision loss.'\n",
       "     nfev: 1346\n",
       "      nit: 40\n",
       "     njev: 190\n",
       "   status: 2\n",
       "  success: False\n",
       "        x: array([ 0.25164638,  0.01293335,  0.40050205, -0.00999167,  0.00301768])"
      ]
     },
     "execution_count": 145,
     "metadata": {},
     "output_type": "execute_result"
    }
   ],
   "source": [
    "b0_init, b1_init, b2_init, b3_init = (0.2,0,0,0)\n",
    "sigma_init = 1\n",
    "y = df.sick\n",
    "x1, x2, x3 = df['age'], df['children'], df['temp_winter']\n",
    "\n",
    "results = opt.minimize(crit, np.array([b0_init, b1_init, b2_init, b3_init, sigma_init]), (y, x1, x2, x3), options={'disp': True})\n",
    "results"
   ]
  },
  {
   "cell_type": "code",
   "execution_count": 146,
   "metadata": {},
   "outputs": [
    {
     "data": {
      "text/plain": [
       "(0.25164137472289494, array([ 0.01293366,  0.40049939, -0.00999174]))"
      ]
     },
     "execution_count": 146,
     "metadata": {},
     "output_type": "execute_result"
    }
   ],
   "source": [
    "#This section is to show OLS estimation results\n",
    "from sklearn.linear_model import LinearRegression\n",
    "\n",
    "X = df[['age','children','temp_winter']]\n",
    "y = df['sick']\n",
    "reg = LinearRegression(True).fit(X, y)\n",
    "reg.intercept_, reg.coef_"
   ]
  },
  {
   "cell_type": "code",
   "execution_count": 147,
   "metadata": {},
   "outputs": [
    {
     "name": "stdout",
     "output_type": "stream",
     "text": [
      "The optimized result is b0 = 0.25, b1 = 0.01, b2 = 0.40, b3 = -0.01, sigma = 0.00\n",
      "The value of the likelihood function is  876.8650462890186\n",
      "The inverse Hessian matrix is  [[ 9.27573453e-07  6.91342071e-09 -1.51802765e-07 -2.07231322e-08\n",
      "  -4.47965526e-10]\n",
      " [ 6.91342071e-09  4.03650482e-09 -3.63332995e-08 -2.50514048e-09\n",
      "   2.52215386e-11]\n",
      " [-1.51802765e-07 -3.63332995e-08  3.73970591e-07  2.28278928e-08\n",
      "  -3.66044604e-10]\n",
      " [-2.07231322e-08 -2.50514048e-09  2.28278928e-08  1.91740562e-09\n",
      "   2.28426437e-12]\n",
      " [-4.47965526e-10  2.52215386e-11 -3.66044604e-10  2.28426437e-12\n",
      "   2.27938897e-08]]\n"
     ]
    }
   ],
   "source": [
    "b0, b1, b2, b3, sigma = results.x\n",
    "Hess = results.hess_inv\n",
    "fval = -results.fun\n",
    "print('The optimized result is b0 = {:.2f}, b1 = {:.2f}, b2 = {:.2f}, b3 = {:.2f}, sigma = {:.2f}'.format(b0, b1, b2, b3, sigma))\n",
    "print('The value of the likelihood function is ', fval)\n",
    "print('The inverse Hessian matrix is ', Hess) #Nelder-mead does not report hessian matrix"
   ]
  },
  {
   "cell_type": "markdown",
   "metadata": {},
   "source": [
    "#### Part(b)"
   ]
  },
  {
   "cell_type": "code",
   "execution_count": 148,
   "metadata": {},
   "outputs": [
    {
     "name": "stdout",
     "output_type": "stream",
     "text": [
      "Hypothesis value log likelihood -2253.700688042125\n",
      "MLE log likelihood 876.8650462890186\n",
      "Likelihood ratio value 6261.131468662287\n",
      "chi squared of H0 with 2 degrees of freedom p-value =  0.0\n"
     ]
    }
   ],
   "source": [
    "b0_0, b1_0, b2_0, b3_0, sigma_0 = 1, 0, 0, 0, 0.1\n",
    "log_lik_h0 = log_lik_norm(y, x1, x2, x3, b0_0, b1_0, b2_0, b3_0, sigma_0)\n",
    "print('Hypothesis value log likelihood', log_lik_h0)\n",
    "log_lik_mle = log_lik_norm(y, x1, x2, x3, b0, b1, b2, b3, sigma)\n",
    "print('MLE log likelihood', log_lik_mle)\n",
    "LR_val = 2 * (log_lik_mle - log_lik_h0)\n",
    "print('Likelihood ratio value', LR_val)\n",
    "pval_h0 = 1.0 - chi2.cdf(LR_val, 2)\n",
    "print('chi squared of H0 with 2 degrees of freedom p-value = ', pval_h0)"
   ]
  }
 ],
 "metadata": {
  "kernelspec": {
   "display_name": "Python 3",
   "language": "python",
   "name": "python3"
  },
  "language_info": {
   "codemirror_mode": {
    "name": "ipython",
    "version": 3
   },
   "file_extension": ".py",
   "mimetype": "text/x-python",
   "name": "python",
   "nbconvert_exporter": "python",
   "pygments_lexer": "ipython3",
   "version": "3.6.4"
  }
 },
 "nbformat": 4,
 "nbformat_minor": 2
}
