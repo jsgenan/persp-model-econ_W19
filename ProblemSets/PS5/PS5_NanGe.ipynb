{
 "cells": [
  {
   "cell_type": "code",
   "execution_count": 4,
   "metadata": {},
   "outputs": [
    {
     "data": {
      "text/html": [
       "<div>\n",
       "<style scoped>\n",
       "    .dataframe tbody tr th:only-of-type {\n",
       "        vertical-align: middle;\n",
       "    }\n",
       "\n",
       "    .dataframe tbody tr th {\n",
       "        vertical-align: top;\n",
       "    }\n",
       "\n",
       "    .dataframe thead th {\n",
       "        text-align: right;\n",
       "    }\n",
       "</style>\n",
       "<table border=\"1\" class=\"dataframe\">\n",
       "  <thead>\n",
       "    <tr style=\"text-align: right;\">\n",
       "      <th></th>\n",
       "      <th>income</th>\n",
       "    </tr>\n",
       "  </thead>\n",
       "  <tbody>\n",
       "    <tr>\n",
       "      <th>0</th>\n",
       "      <td>53711.544399</td>\n",
       "    </tr>\n",
       "    <tr>\n",
       "      <th>1</th>\n",
       "      <td>99731.233349</td>\n",
       "    </tr>\n",
       "    <tr>\n",
       "      <th>2</th>\n",
       "      <td>84773.605417</td>\n",
       "    </tr>\n",
       "    <tr>\n",
       "      <th>3</th>\n",
       "      <td>75184.025931</td>\n",
       "    </tr>\n",
       "    <tr>\n",
       "      <th>4</th>\n",
       "      <td>73390.955933</td>\n",
       "    </tr>\n",
       "  </tbody>\n",
       "</table>\n",
       "</div>"
      ],
      "text/plain": [
       "         income\n",
       "0  53711.544399\n",
       "1  99731.233349\n",
       "2  84773.605417\n",
       "3  75184.025931\n",
       "4  73390.955933"
      ]
     },
     "execution_count": 4,
     "metadata": {},
     "output_type": "execute_result"
    }
   ],
   "source": [
    "# Import packages and load the data\n",
    "import numpy as np\n",
    "import pandas as pd\n",
    "import numpy.linalg as lin\n",
    "import scipy.stats as sts\n",
    "import scipy.integrate as intgr\n",
    "import scipy.optimize as opt\n",
    "import matplotlib\n",
    "import matplotlib.pyplot as plt\n",
    "from mpl_toolkits.mplot3d import Axes3D\n",
    "from matplotlib import cm\n",
    "\n",
    "#Load the data\n",
    "df = pd.read_csv('data/incomes.txt',sep=' ', header=None, names=[\"income\"])\n",
    "df.head()"
   ]
  },
  {
   "cell_type": "code",
   "execution_count": 2,
   "metadata": {},
   "outputs": [
    {
     "data": {
      "text/plain": [
       "Text(0.5, 1.0, 'Distribution of Annual Incomes of MACSS 2018-2020 Graduates')"
      ]
     },
     "execution_count": 2,
     "metadata": {},
     "output_type": "execute_result"
    },
    {
     "data": {
      "image/png": "[encoded data removed]",
      "text/plain": [
       "<Figure size 432x288 with 1 Axes>"
      ]
     },
     "metadata": {
      "needs_background": "light"
     },
     "output_type": "display_data"
    }
   ],
   "source": [
    "plt.hist(df.income, bins=30, alpha=0.75, rwidth=0.85,density=True)\n",
    "plt.xlabel('Incomes')\n",
    "plt.ylabel('Density')\n",
    "plt.title('Distribution of Annual Incomes of MACSS 2018-2020 Graduates')"
   ]
  },
  {
   "cell_type": "code",
   "execution_count": 5,
   "metadata": {},
   "outputs": [
    {
     "name": "stdout",
     "output_type": "stream",
     "text": [
      "(85276.82360625811, 17992.54212804652)\n"
     ]
    }
   ],
   "source": [
    "def lognorm_pdf(x, mu, sigma):\n",
    "    val_pdf = 1/(x*sigma*np.sqrt(2*np.pi))*np.exp(-(np.log(x)-mu)**2/(2*(sigma**2)))\n",
    "    return val_pdf\n",
    "def data_moments(x):\n",
    "    mean_data = np.mean(x)\n",
    "    std_data = np.std(x)\n",
    "    return mean_data, std_data\n",
    "def model_moments(mu, sigma):\n",
    "    mean_model = np.exp(mu+(sigma**2)/2)\n",
    "    std_model = np.sqrt(np.exp(2*mu+sigma**2)*(np.exp(sigma**2)-1))\n",
    "    return mean_model, std_model\n",
    "\n",
    "print(data_moments(df.income))"
   ]
  },
  {
   "cell_type": "code",
   "execution_count": 6,
   "metadata": {},
   "outputs": [],
   "source": [
    "def err_vec(xvals, mu, sigma, simple=False):\n",
    "    mean_data, std_data = data_moments(xvals)\n",
    "    moms_data = np.array([[mean_data], [std_data]])\n",
    "    mean_model, std_model = model_moments(mu, sigma)\n",
    "    moms_model = np.array([[mean_model], [std_model]])\n",
    "    if simple:\n",
    "        err_vec = moms_model - moms_data\n",
    "    else:\n",
    "        err_vec = (moms_model - moms_data) / moms_data\n",
    "    \n",
    "    return err_vec\n",
    "\n",
    "def criterion(params, *args):\n",
    "    mu, sigma = params\n",
    "    xvals, W = args\n",
    "    err = err_vec(xvals, mu, sigma, simple=False)\n",
    "    crit_val = err.T @ W @ err\n",
    "    \n",
    "    return crit_val"
   ]
  },
  {
   "cell_type": "code",
   "execution_count": 7,
   "metadata": {},
   "outputs": [],
   "source": [
    "mu_init = 11\n",
    "sigma_init = 0.5\n",
    "params_init = np.array([mu_init, sigma_init])\n",
    "W_hat = np.eye(2)\n",
    "gmm_args = (df.income, W_hat)\n",
    "results = opt.minimize(criterion, params_init, args=(gmm_args), tol=1e-14,\n",
    "                       method='L-BFGS-B', bounds=((None, None), (1e-10, None)))\n",
    "mu_GMM1, sig_GMM1 = results.x\n",
    "val_crit_1 = results.fun\n",
    "mean_model, std_model = model_moments(mu_GMM1, sig_GMM1)\n",
    "mean_data, std_data = data_moments(df.income)"
   ]
  },
  {
   "cell_type": "code",
   "execution_count": 8,
   "metadata": {},
   "outputs": [
    {
     "name": "stdout",
     "output_type": "stream",
     "text": [
      "Mu_GMM1 = 11.331880866982898, sigma_GMM1 = 0.20869665246828825\n",
      "The value of the GMM criterion function at the estimated parameter values is [[1.00518563e-15]]\n",
      "Mean of model = 85276.82542230906, standard deviation of model = 17992.54170544458\n",
      "Mean of data = 85276.82360625811, standard deviation of data = 17992.54212804652\n"
     ]
    },
    {
     "data": {
      "text/plain": [
       "Text(0.5, 1.0, 'Distribution of Annual Incomes of MACSS 2018-2020 Graduates')"
      ]
     },
     "execution_count": 8,
     "metadata": {},
     "output_type": "execute_result"
    },
    {
     "data": {
      "image/png": "[encoded data removed]",
      "text/plain": [
       "<Figure size 432x288 with 1 Axes>"
      ]
     },
     "metadata": {
      "needs_background": "light"
     },
     "output_type": "display_data"
    }
   ],
   "source": [
    "print('Mu_GMM1 = {}, sigma_GMM1 = {}'.format(mu_GMM1, sig_GMM1))\n",
    "print('The value of the GMM criterion function at the estimated parameter values is {}'.format(val_crit_1))\n",
    "print('Mean of model = {}, standard deviation of model = {}'.format(mean_model, std_model))\n",
    "print('Mean of data = {}, standard deviation of data = {}'.format(mean_data, std_data))\n",
    "\n",
    "plt.hist(df.income, bins=30, alpha=0.75, rwidth=0.85,density=True)\n",
    "x = np.linspace(1000, 150000, 1000)\n",
    "y = lognorm_pdf(x, mu_GMM1, sig_GMM1)\n",
    "plt.plot(x, y, label='mu=11.36, sigma=0.22')\n",
    "plt.xlabel('Incomes')\n",
    "plt.ylabel('Density')\n",
    "plt.title('Distribution of Annual Incomes of MACSS 2018-2020 Graduates')"
   ]
  },
  {
   "cell_type": "markdown",
   "metadata": {},
   "source": [
    "#### Part(c)"
   ]
  },
  {
   "cell_type": "code",
   "execution_count": 9,
   "metadata": {},
   "outputs": [
    {
     "name": "stdout",
     "output_type": "stream",
     "text": [
      "[[0.0445167  0.02724079]\n",
      " [0.02724079 0.40593057]]\n",
      "[[23.42542697 -1.57201059]\n",
      " [-1.57201059  2.56896842]]\n"
     ]
    }
   ],
   "source": [
    "def get_Err_mat2(x, mu, sigma, simple=False):\n",
    "    R = 2\n",
    "    N = len(x)\n",
    "    Err_mat = np.zeros((R, N))\n",
    "    mean_model, std_model = model_moments(mu, sigma)\n",
    "    if simple:\n",
    "        Err_mat[0, :] = x - mean_model\n",
    "        Err_mat[1, :] = np.sqrt((mean_data - x) ** 2) - std_model\n",
    "    else:\n",
    "        Err_mat[0, :] = (x - mean_model) / mean_model\n",
    "        Err_mat[1, :] = (np.sqrt((mean_data - x) ** 2) - std_model) / std_model\n",
    "    \n",
    "    return Err_mat\n",
    "\n",
    "Err_mat = get_Err_mat2(df.income, mu_GMM1, sig_GMM1, False)\n",
    "#omega\n",
    "VCV2 = (1 / df['income'].shape[0]) * (Err_mat @ Err_mat.T)\n",
    "print(VCV2)\n",
    "#W two-step\n",
    "W_hat2 = lin.inv(VCV2)\n",
    "print(W_hat2)"
   ]
  },
  {
   "cell_type": "code",
   "execution_count": 10,
   "metadata": {},
   "outputs": [
    {
     "name": "stdout",
     "output_type": "stream",
     "text": [
      "Mu_GMM2 = 11.331880866982898, sigma_GMM2 = 0.20869665246828825\n",
      "Mean of model = 85276.82542230906, standard deviation of model = 17992.54170544458\n",
      "Mean of data = 85276.82360625811, standard deviation of data = 17992.54212804652\n",
      "The value of your GMM criterion function at the estimated parameter values is [[1.361367e-14]]\n"
     ]
    }
   ],
   "source": [
    "params_init = np.array([mu_GMM1, sig_GMM1])\n",
    "# W_hat3 = np.array([[1. / VCV2[0, 0], 0.], [0., 1. / VCV2[1, 1]]])\n",
    "gmm_args = (df.income, W_hat2)\n",
    "results = opt.minimize(criterion, params_init, args=(gmm_args),\n",
    "                       method='L-BFGS-B', bounds=((1e-10, None), (1e-10, None)))\n",
    "mu_GMM2, sig_GMM2 = results.x\n",
    "val_crit_2 = results.fun\n",
    "mean_model, std_model = model_moments(mu_GMM2, sig_GMM2)\n",
    "print('Mu_GMM2 = {}, sigma_GMM2 = {}'.format(mu_GMM2, sig_GMM2))\n",
    "print('Mean of model = {}, standard deviation of model = {}'.format(mean_model, std_model))\n",
    "print('Mean of data = {}, standard deviation of data = {}'.format(mean_data, std_data))\n",
    "print('The value of your GMM criterion function at the estimated parameter values is {}'.format(val_crit_2))"
   ]
  },
  {
   "cell_type": "code",
   "execution_count": 11,
   "metadata": {},
   "outputs": [
    {
     "data": {
      "text/plain": [
       "Text(0.5, 1.0, 'Distribution of Annual Incomes of MACSS 2018-2020 Graduates')"
      ]
     },
     "execution_count": 11,
     "metadata": {},
     "output_type": "execute_result"
    },
    {
     "data": {
      "image/png": "[encoded data removed]",
      "text/plain": [
       "<Figure size 432x288 with 1 Axes>"
      ]
     },
     "metadata": {
      "needs_background": "light"
     },
     "output_type": "display_data"
    }
   ],
   "source": [
    "plt.hist(df.income, bins=30, alpha=0.75, rwidth=0.85,density=True)\n",
    "x = np.linspace(1000, 150000, 1000)\n",
    "y1 = lognorm_pdf(x, mu_GMM1, sig_GMM1)\n",
    "y2 = lognorm_pdf(x, mu_GMM2, sig_GMM2)\n",
    "plt.plot(x, y1, label='GMM1', linewidth=3)\n",
    "plt.plot(x, y2, label='GMM2')\n",
    "plt.xlabel('Incomes')\n",
    "plt.ylabel('Density')\n",
    "plt.legend(loc='upper left')\n",
    "plt.title('Distribution of Annual Incomes of MACSS 2018-2020 Graduates')"
   ]
  },
  {
   "cell_type": "markdown",
   "metadata": {},
   "source": [
    "#### Part(d)"
   ]
  },
  {
   "cell_type": "code",
   "execution_count": 12,
   "metadata": {},
   "outputs": [
    {
     "data": {
      "text/plain": [
       "(0.3, 0.5, 0.2)"
      ]
     },
     "execution_count": 12,
     "metadata": {},
     "output_type": "execute_result"
    }
   ],
   "source": [
    "def data_moments3(xvals):\n",
    "    N = len(xvals)\n",
    "    #percent of individuals who earn less than $75,000\n",
    "    #percent of individuals who earn between $75,000 and $100,000\n",
    "    #percent of individuals who earn more than $100,000\n",
    "    bpct_1_dat = np.sum(xvals<75000)/N\n",
    "    bpct_2_dat = np.sum((xvals>=75000)&(xvals<=100000))/N\n",
    "    bpct_3_dat = np.sum(xvals>100000)/N\n",
    "    return bpct_1_dat, bpct_2_dat, bpct_3_dat\n",
    "data_moments3(df.income)"
   ]
  },
  {
   "cell_type": "code",
   "execution_count": 14,
   "metadata": {},
   "outputs": [
    {
     "data": {
      "text/plain": [
       "(0.29132664906842715, 0.2189852313386782, 0.48968607082993554)"
      ]
     },
     "execution_count": 14,
     "metadata": {},
     "output_type": "execute_result"
    }
   ],
   "source": [
    "def model_moments3(mu, sigma):\n",
    "    dfx = lambda x: lognorm_pdf(x, mu, sigma)\n",
    "    bpct_1_mod = intgr.quad(dfx, 0, 75000)[0]\n",
    "    bpct_2_mod = intgr.quad(dfx, 75000, 100000)[0]\n",
    "    bpct_3_mod = intgr.quad(dfx, 100000, np.inf)[0]\n",
    "    return bpct_1_mod, bpct_2_mod, bpct_3_mod\n",
    "model_moments3(11.5,0.5)"
   ]
  },
  {
   "cell_type": "code",
   "execution_count": 15,
   "metadata": {},
   "outputs": [],
   "source": [
    "def err_vec3(xvals, mu, sigma, simple=False):\n",
    "    bpct_1_dat, bpct_2_dat, bpct_3_dat = data_moments3(xvals)\n",
    "    moms_data = np.array([[bpct_1_dat], [bpct_2_dat], [bpct_3_dat]])\n",
    "    bpct_1_mod, bpct_2_mod, bpct_3_mod = model_moments3(mu, sigma)\n",
    "    moms_model = np.array([[bpct_1_mod], [bpct_2_mod], [bpct_3_mod]])\n",
    "    if simple:\n",
    "        err_vec = moms_model - moms_data\n",
    "    else:\n",
    "        err_vec = (moms_model - moms_data) / moms_data\n",
    "    \n",
    "    return err_vec\n",
    "\n",
    "\n",
    "def criterion3(params, *args):\n",
    "    mu, sigma = params\n",
    "    xvals, W = args\n",
    "    err = err_vec3(xvals, mu, sigma, simple=False)\n",
    "    crit_val = err.T @ W @ err \n",
    "    \n",
    "    return crit_val"
   ]
  },
  {
   "cell_type": "code",
   "execution_count": 16,
   "metadata": {},
   "outputs": [
    {
     "name": "stdout",
     "output_type": "stream",
     "text": [
      "mu_GMM1_3= 11.33568132570604  sig_GMM1_3= 0.2105984529392125\n",
      "Data moments:  (0.3, 0.5, 0.2)\n",
      "Model moments:  (0.3000000057936841, 0.5000000068524747, 0.19999998735384145)\n",
      "Value of the criterion function [[4.55892297e-15]]\n"
     ]
    }
   ],
   "source": [
    "mu_init = 11\n",
    "sig_init = 0.5\n",
    "params_init = np.array([mu_init, sig_init])\n",
    "W_hat1_3 = np.eye(3)\n",
    "gmm_args = (df.income, W_hat1_3)\n",
    "results_3 = opt.minimize(criterion3, params_init, args=(gmm_args),\n",
    "                       method='L-BFGS-B', bounds=((1e-10, None), (1e-10, None)))\n",
    "mu_GMM1_3, sig_GMM1_3 = results_3.x\n",
    "val_crit_3 = results_3.fun\n",
    "print('mu_GMM1_3=', mu_GMM1_3, ' sig_GMM1_3=', sig_GMM1_3)\n",
    "print('Data moments: ', data_moments3(df.income))\n",
    "print('Model moments: ', model_moments3(mu_GMM1_3, sig_GMM1_3))\n",
    "print('Value of the criterion function', val_crit_3)\n",
    "#results_3"
   ]
  },
  {
   "cell_type": "markdown",
   "metadata": {},
   "source": [
    "#### Part(e)"
   ]
  },
  {
   "cell_type": "code",
   "execution_count": 17,
   "metadata": {},
   "outputs": [
    {
     "name": "stdout",
     "output_type": "stream",
     "text": [
      "[[ 2.33333324 -0.99999997 -1.00000004]\n",
      " [-0.99999997  0.99999997 -1.00000005]\n",
      " [-1.00000004 -1.00000005  4.00000051]]\n",
      "[[ 0.25761774 -0.1495845  -0.01246537]\n",
      " [-0.1495845   0.11911357 -0.07340719]\n",
      " [-0.01246537 -0.07340719  0.20221605]]\n"
     ]
    }
   ],
   "source": [
    "def get_Err_mat3(pts, mu, sigma, simple=False):\n",
    "    R = 3\n",
    "    N = len(pts)\n",
    "    Err_mat = np.zeros((R, N))\n",
    "    pct_1_mod, pct_2_mod, pct_3_mod = \\\n",
    "        model_moments3(mu, sigma)\n",
    "    if simple:\n",
    "        pts_in_grp1 = pts < 75000\n",
    "        Err_mat[0, :] = pts_in_grp1 - pct_1_mod\n",
    "        pts_in_grp2 = (pts >= 75000) & (pts < 100000)\n",
    "        Err_mat[1, :] = pts_in_grp2 - pct_2_mod\n",
    "        pts_in_grp3 = pts >= 100000\n",
    "        Err_mat[2, :] = pts_in_grp3 - pct_3_mod\n",
    "\n",
    "    else:\n",
    "        pts_in_grp1 = pts < 75000\n",
    "        Err_mat[0, :] = (pts_in_grp1 - pct_1_mod) / pct_1_mod\n",
    "        pts_in_grp2 = (pts >= 75000) & (pts < 100000)\n",
    "        Err_mat[1, :] = (pts_in_grp2 - pct_2_mod) / pct_2_mod\n",
    "        pts_in_grp3 = pts >= 100000\n",
    "        Err_mat[2, :] = (pts_in_grp3 - pct_3_mod) / pct_3_mod\n",
    "    \n",
    "    return Err_mat\n",
    "Err_mat3 = get_Err_mat3(df.income, mu_GMM1_3, sig_GMM1_3, False)\n",
    "VCV2_3 = (1 / df['income'].shape[0]) * (Err_mat3 @ Err_mat3.T)\n",
    "print(VCV2_3)\n",
    "# We use the pseudo-inverse command here because the VCV matrix is poorly conditioned\n",
    "W_hat2_3 = lin.pinv(VCV2_3)\n",
    "print(W_hat2_3)"
   ]
  },
  {
   "cell_type": "code",
   "execution_count": 18,
   "metadata": {},
   "outputs": [
    {
     "name": "stdout",
     "output_type": "stream",
     "text": [
      "mu_GMM2_3= 11.33568132570604  sig_GMM2_3= 0.2105984529392125\n",
      "Data moments:  (0.3, 0.5, 0.2)\n",
      "Model moments:  (0.3000000057936841, 0.5000000068524747, 0.19999998735384145)\n",
      "Value of the criterion function [[1.00542859e-15]]\n"
     ]
    }
   ],
   "source": [
    "mu_init = 11\n",
    "sig_init = 0.5\n",
    "params_init = np.array([mu_GMM1_3, sig_GMM1_3])\n",
    "gmm_args = (df.income, W_hat2_3)\n",
    "results2_3 = opt.minimize(criterion3, params_init, args=(gmm_args),\n",
    "                          method='L-BFGS-B', bounds=((None, None), (1e-10, None)))\n",
    "mu_GMM2_3, sig_GMM2_3 = results2_3.x\n",
    "val_crit_4 = results2_3.fun\n",
    "print('mu_GMM2_3=', mu_GMM2_3, ' sig_GMM2_3=', sig_GMM2_3)\n",
    "print('Data moments: ', data_moments3(df.income))\n",
    "print('Model moments: ', model_moments3(mu_GMM2_3, sig_GMM2_3))\n",
    "print('Value of the criterion function', val_crit_4)\n",
    "#results2_3"
   ]
  },
  {
   "cell_type": "code",
   "execution_count": 19,
   "metadata": {},
   "outputs": [
    {
     "data": {
      "text/plain": [
       "Text(0.5, 1.0, 'Distribution of Annual Incomes of MACSS 2018-2020 Graduates')"
      ]
     },
     "execution_count": 19,
     "metadata": {},
     "output_type": "execute_result"
    },
    {
     "data": {
      "image/png": "[encoded data removed]",
      "text/plain": [
       "<Figure size 432x288 with 1 Axes>"
      ]
     },
     "metadata": {
      "needs_background": "light"
     },
     "output_type": "display_data"
    }
   ],
   "source": [
    "plt.hist(df.income, bins=30, alpha=0.75, rwidth=0.85,density=True)\n",
    "x = np.linspace(1000, 150000, 1000)\n",
    "y1 = lognorm_pdf(x, mu_GMM1_3, sig_GMM1_3)\n",
    "y2 = lognorm_pdf(x, mu_GMM2_3, sig_GMM2_3)\n",
    "plt.plot(x, y1, label='GMM1', linewidth=3)\n",
    "plt.plot(x, y2, label='GMM2')\n",
    "plt.xlabel('Incomes')\n",
    "plt.ylabel('Density')\n",
    "plt.legend(loc='upper left')\n",
    "plt.title('Distribution of Annual Incomes of MACSS 2018-2020 Graduates')"
   ]
  },
  {
   "cell_type": "markdown",
   "metadata": {},
   "source": [
    "#### Part(f)"
   ]
  },
  {
   "cell_type": "code",
   "execution_count": 20,
   "metadata": {},
   "outputs": [
    {
     "name": "stdout",
     "output_type": "stream",
     "text": [
      "[[1.00518563e-15]] [[1.361367e-14]] [[4.55892297e-15]] [[1.00542859e-15]]\n"
     ]
    }
   ],
   "source": [
    "print(val_crit_1, val_crit_2, val_crit_3, val_crit_4)"
   ]
  },
  {
   "cell_type": "code",
   "execution_count": 29,
   "metadata": {},
   "outputs": [
    {
     "name": "stdout",
     "output_type": "stream",
     "text": [
      "83864.44456035775\n",
      "83439.81453880598 83439.81453880598 83757.52745483209 83757.52745483209\n"
     ]
    }
   ],
   "source": [
    "#Define a new moment\n",
    "def med_data(df):\n",
    "    return np.median(df)\n",
    "med_data(df.income)\n",
    "def med_mod(mu):\n",
    "    return np.exp(mu)\n",
    "print(med_data(df.income))\n",
    "print(med_mod(mu_GMM1), med_mod(mu_GMM2), med_mod(mu_GMM1_3), med_mod(mu_GMM2_3))"
   ]
  },
  {
   "cell_type": "markdown",
   "metadata": {},
   "source": [
    "The criterion function values are very close. We proceed to look at the variance of our estimates."
   ]
  },
  {
   "cell_type": "code",
   "execution_count": 20,
   "metadata": {},
   "outputs": [],
   "source": [
    "def Jac_err2(xvals, mu, sigma, simple=False):\n",
    "    '''\n",
    "    This function computes the Jacobian matrix of partial derivatives of the R x 1 moment\n",
    "    error vector e(x|theta) with respect to the K parameters theta_i in the K x 1 parameter vector\n",
    "    theta. The resulting matrix is R x K Jacobian.\n",
    "    '''\n",
    "    Jac_err = np.zeros((2, 2))\n",
    "    h_mu = 1e-8 * mu\n",
    "    h_sig = 1e-8 * sigma\n",
    "    Jac_err[:, 0] = \\\n",
    "        ((err_vec(xvals, mu + h_mu, sigma, simple) -\n",
    "          err_vec(xvals, mu - h_mu, sigma, simple)) / (2 * h_mu)).flatten()\n",
    "    Jac_err[:, 1] = \\\n",
    "        ((err_vec(xvals, mu, sigma + h_sig, simple) -\n",
    "          err_vec(xvals, mu, sigma - h_sig, simple)) / (2 * h_sig)).flatten()\n",
    "    \n",
    "    return Jac_err\n",
    "\n",
    "def Jac_err3(xvals, mu, sigma, simple=False):\n",
    "    Jac_err = np.zeros((3, 2))\n",
    "    h_mu = 1e-8 * mu\n",
    "    h_sig = 1e-8 * sigma\n",
    "    Jac_err[:, 0] = \\\n",
    "        ((err_vec3(xvals, mu + h_mu, sigma, simple) -\n",
    "          err_vec3(xvals, mu - h_mu, sigma, simple)) / (2 * h_mu)).flatten()\n",
    "    Jac_err[:, 1] = \\\n",
    "        ((err_vec3(xvals, mu, sigma + h_sig, simple) -\n",
    "          err_vec3(xvals, mu, sigma - h_sig, simple)) / (2 * h_sig)).flatten()\n",
    "    \n",
    "    return Jac_err"
   ]
  },
  {
   "cell_type": "code",
   "execution_count": 21,
   "metadata": {},
   "outputs": [
    {
     "name": "stdout",
     "output_type": "stream",
     "text": [
      "Std. err. mu_GMM1_hat= 0.07378589616255801 Std. err. sig_GMM1_hat= 0.020421710300351198\n",
      "Std. err. mu_GMM2_hat= 0.01528210090807423 Std. err. sig_GMM2_hat= 0.009086693964167857\n",
      "Std. err. mu_GMM1_3_hat= 0.008541555689757258 Std. err. sig_GMM1_3_hat= 0.009932411041157333\n",
      "Std. err. mu_GMM2_3_hat= 0.01666132152036448 Std. err. sig_GMM2_3_hat= 0.01739347549446694\n"
     ]
    }
   ],
   "source": [
    "N = df['income'].shape[0]\n",
    "d_err2_1 = Jac_err2(df.income, mu_GMM1, sig_GMM1, False)\n",
    "W_hat1 = np.eye(2)\n",
    "SigHat2_1 = (1 / N) * lin.inv(d_err2_1.T @ W_hat1 @ d_err2_1)\n",
    "#print(d_err2_1)\n",
    "#print(W_hat1)\n",
    "#print(SigHat2_1)\n",
    "print('Std. err. mu_GMM1_hat=', np.sqrt(SigHat2_1[0, 0]), 'Std. err. sig_GMM1_hat=', np.sqrt(SigHat2_1[1, 1]))\n",
    "\n",
    "d_err2_2 = Jac_err2(df.income, mu_GMM2, sig_GMM2, False)\n",
    "SigHat2_2 = (1 / N) * lin.inv(d_err2_2.T @ W_hat2 @ d_err2_2)\n",
    "#print(d_err2_2)\n",
    "#print(W_hat2)\n",
    "#print(SigHat2_2)\n",
    "print('Std. err. mu_GMM2_hat=', np.sqrt(SigHat2_2[0, 0]), 'Std. err. sig_GMM2_hat=', np.sqrt(SigHat2_2[1, 1]))\n",
    "\n",
    "d_err3_1 = Jac_err3(df.income, mu_GMM1_3, sig_GMM1_3, False)\n",
    "W_hat1_3 = np.eye(3)\n",
    "SigHat3_1 = (1 / N) * lin.inv(d_err3_1.T @ W_hat1_3 @ d_err3_1)\n",
    "print('Std. err. mu_GMM1_3_hat=', np.sqrt(SigHat3_1[0, 0]), 'Std. err. sig_GMM1_3_hat=', np.sqrt(SigHat3_1[1, 1]))\n",
    "\n",
    "d_err3_2 = Jac_err3(df.income, mu_GMM2_3, sig_GMM2_3, False)\n",
    "SigHat3_2 = (1 / N) * lin.inv(d_err3_2.T @ W_hat2_3 @ d_err3_2)\n",
    "print('Std. err. mu_GMM2_3_hat=', np.sqrt(SigHat3_2[0, 0]), 'Std. err. sig_GMM2_3_hat=', np.sqrt(SigHat3_2[1, 1]))\n"
   ]
  },
  {
   "cell_type": "markdown",
   "metadata": {},
   "source": [
    "On the one hand, values of the criterion function at estimated parameters are very close, with the smallest criterion function value coming from (b) and (e). On the other hand, the standard deviation of the parameters in Part(d) is the smallest. Therefore we choose (d) as the best fit. Note, however, that the value of criterion function shifts with our initial guess for $\\mu$ and $\\sigma$. \n",
    "\n",
    "If we look at a new moment, median of the distribtution ,then estimates from (d) and (e) are best fits.\n",
    "\n",
    "Also note that the *numpy.std* function returns results with degree of freedom = 0, whereas *pandas.DataFrame.std* function return results with degree of freedom = 1. We use numpy function in Question1, but the sample size is expected to be larger."
   ]
  },
  {
   "cell_type": "markdown",
   "metadata": {},
   "source": [
    "## Question 2"
   ]
  },
  {
   "cell_type": "markdown",
   "metadata": {},
   "source": [
    "#### Part(a)"
   ]
  },
  {
   "cell_type": "code",
   "execution_count": 40,
   "metadata": {},
   "outputs": [
    {
     "data": {
      "text/html": [
       "<div>\n",
       "<style scoped>\n",
       "    .dataframe tbody tr th:only-of-type {\n",
       "        vertical-align: middle;\n",
       "    }\n",
       "\n",
       "    .dataframe tbody tr th {\n",
       "        vertical-align: top;\n",
       "    }\n",
       "\n",
       "    .dataframe thead th {\n",
       "        text-align: right;\n",
       "    }\n",
       "</style>\n",
       "<table border=\"1\" class=\"dataframe\">\n",
       "  <thead>\n",
       "    <tr style=\"text-align: right;\">\n",
       "      <th></th>\n",
       "      <th>sick</th>\n",
       "      <th>age</th>\n",
       "      <th>children</th>\n",
       "      <th>temp_winter</th>\n",
       "    </tr>\n",
       "  </thead>\n",
       "  <tbody>\n",
       "    <tr>\n",
       "      <th>0</th>\n",
       "      <td>1.67</td>\n",
       "      <td>57.47</td>\n",
       "      <td>3.04</td>\n",
       "      <td>54.10</td>\n",
       "    </tr>\n",
       "    <tr>\n",
       "      <th>1</th>\n",
       "      <td>0.71</td>\n",
       "      <td>26.77</td>\n",
       "      <td>1.20</td>\n",
       "      <td>36.54</td>\n",
       "    </tr>\n",
       "    <tr>\n",
       "      <th>2</th>\n",
       "      <td>1.39</td>\n",
       "      <td>41.85</td>\n",
       "      <td>2.31</td>\n",
       "      <td>32.38</td>\n",
       "    </tr>\n",
       "    <tr>\n",
       "      <th>3</th>\n",
       "      <td>1.37</td>\n",
       "      <td>51.27</td>\n",
       "      <td>2.46</td>\n",
       "      <td>52.94</td>\n",
       "    </tr>\n",
       "    <tr>\n",
       "      <th>4</th>\n",
       "      <td>1.45</td>\n",
       "      <td>44.22</td>\n",
       "      <td>2.72</td>\n",
       "      <td>45.90</td>\n",
       "    </tr>\n",
       "  </tbody>\n",
       "</table>\n",
       "</div>"
      ],
      "text/plain": [
       "   sick    age  children  temp_winter\n",
       "0  1.67  57.47      3.04        54.10\n",
       "1  0.71  26.77      1.20        36.54\n",
       "2  1.39  41.85      2.31        32.38\n",
       "3  1.37  51.27      2.46        52.94\n",
       "4  1.45  44.22      2.72        45.90"
      ]
     },
     "execution_count": 40,
     "metadata": {},
     "output_type": "execute_result"
    }
   ],
   "source": [
    "#Load the data\n",
    "text = []\n",
    "with open('data/sick.txt') as f:\n",
    "    for line in f:\n",
    "        text.append(line.rsplit()[0].split(','))\n",
    "text = np.array(text)\n",
    "df = pd.DataFrame(text[1:], columns=['sick', 'age', 'children', 'temp_winter']).astype('float64')\n",
    "df.head()"
   ]
  },
  {
   "cell_type": "markdown",
   "metadata": {},
   "source": [
    "Moment condition is $E[\\epsilon_i|\\beta]=0$"
   ]
  },
  {
   "cell_type": "code",
   "execution_count": 84,
   "metadata": {},
   "outputs": [],
   "source": [
    "def err_vec(y, x1, x2, x3, b0, b1, b2, b3, simple):\n",
    "    #data moment is y, model moment is beta*X\n",
    "    betaX = b0 + b1*x1 + b2*x2 + b3*x3\n",
    "    if simple:\n",
    "        return betaX-y\n",
    "    else:\n",
    "        return (betaX-y)/y\n",
    "    \n",
    "def crit(params, *args):\n",
    "    b0, b1, b2, b3 = params\n",
    "    y, x1, x2, x3, W = args\n",
    "    err = err_vec(y, x1, x2, x3, b0, b1, b2, b3, True)\n",
    "    crit_val = err.T @ W @ err\n",
    "    return crit_val"
   ]
  },
  {
   "cell_type": "code",
   "execution_count": 86,
   "metadata": {},
   "outputs": [
    {
     "name": "stdout",
     "output_type": "stream",
     "text": [
      "beta0 = 0.2516448637185914, beta1 = 0.012933470968263978, beta2 = 0.40050098467599354, beta3 = -0.009991709714024822\n",
      "Value of the GMM criterion function evaluated at the optimal parameter is  0.0018212898060803585\n"
     ]
    }
   ],
   "source": [
    "params_init = np.array([1, 0, 0, 0])\n",
    "W_hat = np.eye(200)\n",
    "gmm_args = (df.sick, df.age, df.children, df.temp_winter, W_hat)\n",
    "res = opt.minimize(crit, params_init, args=(gmm_args),tol=1e-14, method='L-BFGS-B')\n",
    "b0, b1, b2, b3 = res.x\n",
    "val_crit = res.fun\n",
    "print('beta0 = {}, beta1 = {}, beta2 = {}, beta3 = {}'.format(b0, b1, b2, b3))\n",
    "print('Value of the GMM criterion function evaluated at the optimal parameter is ', val_crit)"
   ]
  }
 ],
 "metadata": {
  "kernelspec": {
   "display_name": "Python 3",
   "language": "python",
   "name": "python3"
  },
  "language_info": {
   "codemirror_mode": {
    "name": "ipython",
    "version": 3
   },
   "file_extension": ".py",
   "mimetype": "text/x-python",
   "name": "python",
   "nbconvert_exporter": "python",
   "pygments_lexer": "ipython3",
   "version": "3.6.4"
  }
 },
 "nbformat": 4,
 "nbformat_minor": 2
}
